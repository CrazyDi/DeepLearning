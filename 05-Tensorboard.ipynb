{
 "cells": [
  {
   "cell_type": "markdown",
   "metadata": {},
   "source": [
    "<a href=\"https://www.pieriandata.com\"><img src=\"../Pierian_Data_Logo.PNG\"></a>\n",
    "<strong><center>Copyright by Pierian Data Inc.</center></strong> \n",
    "<strong><center>Created by Jose Marcial Portilla.</center></strong>"
   ]
  },
  {
   "cell_type": "markdown",
   "metadata": {},
   "source": [
    "# Tensorboard\n",
    "\n",
    "---\n",
    "---\n",
    "\n",
    "**NOTE: You must watch the corresponding video to understand this lecture. This notebook can't serve as a full guide. Please watch the video BEFORE posting questions to the QA forum.**\n",
    "\n",
    "---\n",
    "---\n",
    "\n",
    "Let's explore the built in data visualization capabilities that come with Tensorboard.\n",
    "\n",
    "Full official tutorial available here: https://www.tensorflow.org/tensorboard/get_started\n",
    "\n",
    "## Data"
   ]
  },
  {
   "cell_type": "code",
   "execution_count": 1,
   "metadata": {},
   "outputs": [],
   "source": [
    "import pandas as pd\n",
    "import numpy as np"
   ]
  },
  {
   "cell_type": "code",
   "execution_count": 2,
   "metadata": {},
   "outputs": [],
   "source": [
    "df = pd.read_csv('d:\\Projects\\DeepLearning\\DATA\\cancer_classification.csv')"
   ]
  },
  {
   "cell_type": "markdown",
   "metadata": {},
   "source": [
    "### Train Test Split"
   ]
  },
  {
   "cell_type": "code",
   "execution_count": 3,
   "metadata": {},
   "outputs": [],
   "source": [
    "X = df.drop('benign_0__mal_1',axis=1).values\n",
    "y = df['benign_0__mal_1'].values"
   ]
  },
  {
   "cell_type": "code",
   "execution_count": 4,
   "metadata": {},
   "outputs": [],
   "source": [
    "from sklearn.model_selection import train_test_split"
   ]
  },
  {
   "cell_type": "code",
   "execution_count": 5,
   "metadata": {},
   "outputs": [],
   "source": [
    "X_train, X_test, y_train, y_test = train_test_split(X,y,test_size=0.25,random_state=101)"
   ]
  },
  {
   "cell_type": "markdown",
   "metadata": {},
   "source": [
    "\n",
    "### Scaling Data"
   ]
  },
  {
   "cell_type": "code",
   "execution_count": 6,
   "metadata": {},
   "outputs": [],
   "source": [
    "from sklearn.preprocessing import MinMaxScaler"
   ]
  },
  {
   "cell_type": "code",
   "execution_count": 7,
   "metadata": {},
   "outputs": [],
   "source": [
    "scaler = MinMaxScaler()"
   ]
  },
  {
   "cell_type": "code",
   "execution_count": 8,
   "metadata": {},
   "outputs": [
    {
     "data": {
      "text/plain": [
       "MinMaxScaler(copy=True, feature_range=(0, 1))"
      ]
     },
     "execution_count": 8,
     "metadata": {},
     "output_type": "execute_result"
    }
   ],
   "source": [
    "scaler.fit(X_train)"
   ]
  },
  {
   "cell_type": "code",
   "execution_count": 9,
   "metadata": {},
   "outputs": [],
   "source": [
    "X_train = scaler.transform(X_train)\n",
    "X_test = scaler.transform(X_test)"
   ]
  },
  {
   "cell_type": "markdown",
   "metadata": {},
   "source": [
    "## Creating the Model"
   ]
  },
  {
   "cell_type": "code",
   "execution_count": 10,
   "metadata": {},
   "outputs": [],
   "source": [
    "import tensorflow as tf\n",
    "from tensorflow.keras.models import Sequential\n",
    "from tensorflow.keras.layers import Dense, Activation,Dropout"
   ]
  },
  {
   "cell_type": "code",
   "execution_count": 11,
   "metadata": {},
   "outputs": [],
   "source": [
    "from tensorflow.keras.callbacks import EarlyStopping,TensorBoard"
   ]
  },
  {
   "cell_type": "code",
   "execution_count": 12,
   "metadata": {},
   "outputs": [],
   "source": [
    "early_stop = EarlyStopping(monitor='val_loss', mode='min', verbose=1, patience=25)"
   ]
  },
  {
   "cell_type": "code",
   "execution_count": 13,
   "metadata": {},
   "outputs": [
    {
     "data": {
      "text/plain": [
       "'D:\\\\Projects\\\\DeepLearning'"
      ]
     },
     "execution_count": 13,
     "metadata": {},
     "output_type": "execute_result"
    }
   ],
   "source": [
    "pwd"
   ]
  },
  {
   "cell_type": "markdown",
   "metadata": {},
   "source": [
    "## Creating the Tensorboard Callback\n",
    "\n",
    "TensorBoard is a visualization tool provided with TensorFlow.\n",
    "\n",
    "This callback logs events for TensorBoard, including:\n",
    "* Metrics summary plots\n",
    "* Training graph visualization\n",
    "* Activation histograms\n",
    "* Sampled profiling\n",
    "\n",
    "If you have installed TensorFlow with pip, you should be able\n",
    "to launch TensorBoard from the command line:\n",
    "\n",
    "```sh\n",
    "tensorboard --logdir=path_to_your_logs\n",
    "```\n",
    "\n",
    "You can find more information about TensorBoard\n",
    "[here](https://www.tensorflow.org/tensorboard/).\n",
    "\n",
    "    Arguments:\n",
    "        log_dir: the path of the directory where to save the log files to be\n",
    "          parsed by TensorBoard.\n",
    "        histogram_freq: frequency (in epochs) at which to compute activation and\n",
    "          weight histograms for the layers of the model. If set to 0, histograms\n",
    "          won't be computed. Validation data (or split) must be specified for\n",
    "          histogram visualizations.\n",
    "        write_graph: whether to visualize the graph in TensorBoard. The log file\n",
    "          can become quite large when write_graph is set to True.\n",
    "        write_images: whether to write model weights to visualize as image in\n",
    "          TensorBoard.\n",
    "        update_freq: `'batch'` or `'epoch'` or integer. When using `'batch'`,\n",
    "          writes the losses and metrics to TensorBoard after each batch. The same\n",
    "          applies for `'epoch'`. If using an integer, let's say `1000`, the\n",
    "          callback will write the metrics and losses to TensorBoard every 1000\n",
    "          samples. Note that writing too frequently to TensorBoard can slow down\n",
    "          your training.\n",
    "        profile_batch: Profile the batch to sample compute characteristics. By\n",
    "          default, it will profile the second batch. Set profile_batch=0 to\n",
    "          disable profiling. Must run in TensorFlow eager mode.\n",
    "        embeddings_freq: frequency (in epochs) at which embedding layers will\n",
    "          be visualized. If set to 0, embeddings won't be visualized.\n",
    "       "
   ]
  },
  {
   "cell_type": "code",
   "execution_count": 14,
   "metadata": {},
   "outputs": [],
   "source": [
    "from datetime import datetime"
   ]
  },
  {
   "cell_type": "code",
   "execution_count": 15,
   "metadata": {},
   "outputs": [
    {
     "data": {
      "text/plain": [
       "'2020-04-09--1142'"
      ]
     },
     "execution_count": 15,
     "metadata": {},
     "output_type": "execute_result"
    }
   ],
   "source": [
    "datetime.now().strftime(\"%Y-%m-%d--%H%M\")"
   ]
  },
  {
   "cell_type": "code",
   "execution_count": 16,
   "metadata": {},
   "outputs": [],
   "source": [
    "# WINDOWS: Use \"logs\\\\fit\"\n",
    "# MACOS/LINUX: Use \"logs\\fit\"\n",
    "\n",
    "log_directory = 'logs\\\\fit'\n",
    "\n",
    "# OPTIONAL: ADD A TIMESTAMP FOR UNIQUE FOLDER\n",
    "# timestamp = datetime.now().strftime(\"%Y-%m-%d--%H%M\")\n",
    "# log_directory = log_directory + '\\\\' + timestamp\n",
    "\n",
    "\n",
    "board = TensorBoard(log_dir=log_directory,histogram_freq=1,\n",
    "    write_graph=True,\n",
    "    write_images=True,\n",
    "    update_freq='epoch',\n",
    "    profile_batch=2,\n",
    "    embeddings_freq=1)"
   ]
  },
  {
   "cell_type": "markdown",
   "metadata": {},
   "source": [
    "Now create the model layers:"
   ]
  },
  {
   "cell_type": "code",
   "execution_count": 17,
   "metadata": {},
   "outputs": [],
   "source": [
    "model = Sequential()\n",
    "model.add(Dense(units=30,activation='relu'))\n",
    "model.add(Dropout(0.5))\n",
    "model.add(Dense(units=15,activation='relu'))\n",
    "model.add(Dropout(0.5))\n",
    "model.add(Dense(units=1,activation='sigmoid'))\n",
    "model.compile(loss='binary_crossentropy', optimizer='adam')"
   ]
  },
  {
   "cell_type": "markdown",
   "metadata": {},
   "source": [
    "## Train the Model"
   ]
  },
  {
   "cell_type": "code",
   "execution_count": 18,
   "metadata": {},
   "outputs": [
    {
     "name": "stdout",
     "output_type": "stream",
     "text": [
      "Train on 426 samples, validate on 143 samples\n",
      "Epoch 1/600\n",
      "426/426 [==============================] - 1s 2ms/sample - loss: 0.7120 - val_loss: 0.6754\n",
      "Epoch 2/600\n",
      "426/426 [==============================] - 0s 160us/sample - loss: 0.6843 - val_loss: 0.6624\n",
      "Epoch 3/600\n",
      "426/426 [==============================] - 0s 153us/sample - loss: 0.6693 - val_loss: 0.6485\n",
      "Epoch 4/600\n",
      "426/426 [==============================] - 0s 150us/sample - loss: 0.6386 - val_loss: 0.6269\n",
      "Epoch 5/600\n",
      "426/426 [==============================] - 0s 148us/sample - loss: 0.6358 - val_loss: 0.6040\n",
      "Epoch 6/600\n",
      "426/426 [==============================] - 0s 146us/sample - loss: 0.6141 - val_loss: 0.5772\n",
      "Epoch 7/600\n",
      "426/426 [==============================] - 0s 146us/sample - loss: 0.5838 - val_loss: 0.5446\n",
      "Epoch 8/600\n",
      "426/426 [==============================] - 0s 145us/sample - loss: 0.5685 - val_loss: 0.5147\n",
      "Epoch 9/600\n",
      "426/426 [==============================] - 0s 143us/sample - loss: 0.5531 - val_loss: 0.4898\n",
      "Epoch 10/600\n",
      "426/426 [==============================] - 0s 148us/sample - loss: 0.5345 - val_loss: 0.4609\n",
      "Epoch 11/600\n",
      "426/426 [==============================] - 0s 176us/sample - loss: 0.4937 - val_loss: 0.4241\n",
      "Epoch 12/600\n",
      "426/426 [==============================] - 0s 150us/sample - loss: 0.4712 - val_loss: 0.3928\n",
      "Epoch 13/600\n",
      "426/426 [==============================] - 0s 144us/sample - loss: 0.4445 - val_loss: 0.3650\n",
      "Epoch 14/600\n",
      "426/426 [==============================] - 0s 143us/sample - loss: 0.4250 - val_loss: 0.3359\n",
      "Epoch 15/600\n",
      "426/426 [==============================] - 0s 143us/sample - loss: 0.4169 - val_loss: 0.3163\n",
      "Epoch 16/600\n",
      "426/426 [==============================] - 0s 144us/sample - loss: 0.3780 - val_loss: 0.2916\n",
      "Epoch 17/600\n",
      "426/426 [==============================] - 0s 149us/sample - loss: 0.3514 - val_loss: 0.2694\n",
      "Epoch 18/600\n",
      "426/426 [==============================] - 0s 145us/sample - loss: 0.3433 - val_loss: 0.2548\n",
      "Epoch 19/600\n",
      "426/426 [==============================] - 0s 146us/sample - loss: 0.3456 - val_loss: 0.2420\n",
      "Epoch 20/600\n",
      "426/426 [==============================] - 0s 140us/sample - loss: 0.3364 - val_loss: 0.2331\n",
      "Epoch 21/600\n",
      "426/426 [==============================] - ETA: 0s - loss: 0.352 - 0s 146us/sample - loss: 0.3160 - val_loss: 0.2184\n",
      "Epoch 22/600\n",
      "426/426 [==============================] - 0s 149us/sample - loss: 0.2960 - val_loss: 0.2131\n",
      "Epoch 23/600\n",
      "426/426 [==============================] - 0s 146us/sample - loss: 0.3238 - val_loss: 0.2015\n",
      "Epoch 24/600\n",
      "426/426 [==============================] - 0s 143us/sample - loss: 0.2960 - val_loss: 0.1950\n",
      "Epoch 25/600\n",
      "426/426 [==============================] - 0s 143us/sample - loss: 0.2782 - val_loss: 0.1931\n",
      "Epoch 26/600\n",
      "426/426 [==============================] - 0s 146us/sample - loss: 0.2648 - val_loss: 0.1855\n",
      "Epoch 27/600\n",
      "426/426 [==============================] - 0s 148us/sample - loss: 0.2968 - val_loss: 0.1812\n",
      "Epoch 28/600\n",
      "426/426 [==============================] - 0s 145us/sample - loss: 0.2828 - val_loss: 0.1754\n",
      "Epoch 29/600\n",
      "426/426 [==============================] - 0s 144us/sample - loss: 0.2362 - val_loss: 0.1726\n",
      "Epoch 30/600\n",
      "426/426 [==============================] - 0s 145us/sample - loss: 0.2482 - val_loss: 0.1667\n",
      "Epoch 31/600\n",
      "426/426 [==============================] - ETA: 0s - loss: 0.243 - 0s 150us/sample - loss: 0.2638 - val_loss: 0.1620\n",
      "Epoch 32/600\n",
      "426/426 [==============================] - 0s 150us/sample - loss: 0.2415 - val_loss: 0.1618\n",
      "Epoch 33/600\n",
      "426/426 [==============================] - 0s 147us/sample - loss: 0.2486 - val_loss: 0.1550\n",
      "Epoch 34/600\n",
      "426/426 [==============================] - 0s 143us/sample - loss: 0.2078 - val_loss: 0.1521\n",
      "Epoch 35/600\n",
      "426/426 [==============================] - 0s 143us/sample - loss: 0.2198 - val_loss: 0.1483\n",
      "Epoch 36/600\n",
      "426/426 [==============================] - 0s 145us/sample - loss: 0.2116 - val_loss: 0.1456\n",
      "Epoch 37/600\n",
      "426/426 [==============================] - 0s 148us/sample - loss: 0.1997 - val_loss: 0.1427\n",
      "Epoch 38/600\n",
      "426/426 [==============================] - 0s 143us/sample - loss: 0.2375 - val_loss: 0.1431\n",
      "Epoch 39/600\n",
      "426/426 [==============================] - 0s 145us/sample - loss: 0.2149 - val_loss: 0.1439\n",
      "Epoch 40/600\n",
      "426/426 [==============================] - 0s 144us/sample - loss: 0.2126 - val_loss: 0.1418\n",
      "Epoch 41/600\n",
      "426/426 [==============================] - 0s 148us/sample - loss: 0.2146 - val_loss: 0.1394\n",
      "Epoch 42/600\n",
      "426/426 [==============================] - 0s 146us/sample - loss: 0.1929 - val_loss: 0.1336\n",
      "Epoch 43/600\n",
      "426/426 [==============================] - 0s 145us/sample - loss: 0.1693 - val_loss: 0.1295\n",
      "Epoch 44/600\n",
      "426/426 [==============================] - 0s 143us/sample - loss: 0.2055 - val_loss: 0.1290\n",
      "Epoch 45/600\n",
      "426/426 [==============================] - 0s 150us/sample - loss: 0.1691 - val_loss: 0.1225\n",
      "Epoch 46/600\n",
      "426/426 [==============================] - 0s 143us/sample - loss: 0.2078 - val_loss: 0.1290\n",
      "Epoch 47/600\n",
      "426/426 [==============================] - 0s 147us/sample - loss: 0.1781 - val_loss: 0.1219\n",
      "Epoch 48/600\n",
      "426/426 [==============================] - 0s 151us/sample - loss: 0.1696 - val_loss: 0.1286\n",
      "Epoch 49/600\n",
      "426/426 [==============================] - 0s 143us/sample - loss: 0.1662 - val_loss: 0.1196\n",
      "Epoch 50/600\n",
      "426/426 [==============================] - 0s 149us/sample - loss: 0.1593 - val_loss: 0.1131\n",
      "Epoch 51/600\n",
      "426/426 [==============================] - 0s 145us/sample - loss: 0.1635 - val_loss: 0.1179\n",
      "Epoch 52/600\n",
      "426/426 [==============================] - 0s 151us/sample - loss: 0.1782 - val_loss: 0.1126\n",
      "Epoch 53/600\n",
      "426/426 [==============================] - 0s 150us/sample - loss: 0.1681 - val_loss: 0.1166\n",
      "Epoch 54/600\n",
      "426/426 [==============================] - 0s 146us/sample - loss: 0.1470 - val_loss: 0.1106\n",
      "Epoch 55/600\n",
      "426/426 [==============================] - 0s 151us/sample - loss: 0.1510 - val_loss: 0.1192\n",
      "Epoch 56/600\n",
      "426/426 [==============================] - 0s 142us/sample - loss: 0.1537 - val_loss: 0.1073\n",
      "Epoch 57/600\n",
      "426/426 [==============================] - 0s 144us/sample - loss: 0.1626 - val_loss: 0.1085\n",
      "Epoch 58/600\n",
      "426/426 [==============================] - 0s 149us/sample - loss: 0.1457 - val_loss: 0.1184\n",
      "Epoch 59/600\n",
      "426/426 [==============================] - 0s 142us/sample - loss: 0.1465 - val_loss: 0.1099\n",
      "Epoch 60/600\n",
      "426/426 [==============================] - 0s 146us/sample - loss: 0.1536 - val_loss: 0.1074\n",
      "Epoch 61/600\n",
      "426/426 [==============================] - 0s 145us/sample - loss: 0.1529 - val_loss: 0.1097\n",
      "Epoch 62/600\n",
      "426/426 [==============================] - 0s 195us/sample - loss: 0.1466 - val_loss: 0.1240\n",
      "Epoch 63/600\n",
      "426/426 [==============================] - 0s 147us/sample - loss: 0.1416 - val_loss: 0.1062\n",
      "Epoch 64/600\n",
      "426/426 [==============================] - 0s 145us/sample - loss: 0.1313 - val_loss: 0.1056\n",
      "Epoch 65/600\n",
      "426/426 [==============================] - 0s 144us/sample - loss: 0.1365 - val_loss: 0.1172\n",
      "Epoch 66/600\n",
      "426/426 [==============================] - 0s 145us/sample - loss: 0.1573 - val_loss: 0.1051\n",
      "Epoch 67/600\n",
      "426/426 [==============================] - 0s 143us/sample - loss: 0.1315 - val_loss: 0.1052\n",
      "Epoch 68/600\n",
      "426/426 [==============================] - 0s 144us/sample - loss: 0.1697 - val_loss: 0.1152\n",
      "Epoch 69/600\n",
      "426/426 [==============================] - 0s 153us/sample - loss: 0.1346 - val_loss: 0.1072\n",
      "Epoch 70/600\n",
      "426/426 [==============================] - 0s 144us/sample - loss: 0.1375 - val_loss: 0.1073\n",
      "Epoch 71/600\n",
      "426/426 [==============================] - 0s 143us/sample - loss: 0.1320 - val_loss: 0.1002\n",
      "Epoch 72/600\n",
      "426/426 [==============================] - 0s 143us/sample - loss: 0.1259 - val_loss: 0.1105\n",
      "Epoch 73/600\n",
      "426/426 [==============================] - 0s 146us/sample - loss: 0.1510 - val_loss: 0.1004\n",
      "Epoch 74/600\n",
      "426/426 [==============================] - 0s 146us/sample - loss: 0.1664 - val_loss: 0.1005\n",
      "Epoch 75/600\n",
      "426/426 [==============================] - 0s 144us/sample - loss: 0.1088 - val_loss: 0.1047\n",
      "Epoch 76/600\n",
      "426/426 [==============================] - 0s 145us/sample - loss: 0.1380 - val_loss: 0.1029\n",
      "Epoch 77/600\n"
     ]
    },
    {
     "name": "stdout",
     "output_type": "stream",
     "text": [
      "426/426 [==============================] - 0s 147us/sample - loss: 0.1290 - val_loss: 0.1074\n",
      "Epoch 78/600\n",
      "426/426 [==============================] - 0s 145us/sample - loss: 0.1386 - val_loss: 0.1020\n",
      "Epoch 79/600\n",
      "426/426 [==============================] - 0s 147us/sample - loss: 0.1275 - val_loss: 0.0975\n",
      "Epoch 80/600\n",
      "426/426 [==============================] - 0s 143us/sample - loss: 0.1164 - val_loss: 0.1044\n",
      "Epoch 81/600\n",
      "426/426 [==============================] - 0s 143us/sample - loss: 0.1352 - val_loss: 0.0973\n",
      "Epoch 82/600\n",
      "426/426 [==============================] - 0s 142us/sample - loss: 0.1128 - val_loss: 0.0942\n",
      "Epoch 83/600\n",
      "426/426 [==============================] - 0s 142us/sample - loss: 0.1200 - val_loss: 0.0982\n",
      "Epoch 84/600\n",
      "426/426 [==============================] - 0s 145us/sample - loss: 0.1183 - val_loss: 0.1026\n",
      "Epoch 85/600\n",
      "426/426 [==============================] - 0s 147us/sample - loss: 0.1129 - val_loss: 0.1023\n",
      "Epoch 86/600\n",
      "426/426 [==============================] - 0s 144us/sample - loss: 0.1054 - val_loss: 0.0970\n",
      "Epoch 87/600\n",
      "426/426 [==============================] - 0s 146us/sample - loss: 0.1055 - val_loss: 0.1036\n",
      "Epoch 88/600\n",
      "426/426 [==============================] - 0s 144us/sample - loss: 0.1338 - val_loss: 0.1012\n",
      "Epoch 89/600\n",
      "426/426 [==============================] - 0s 141us/sample - loss: 0.1493 - val_loss: 0.0960\n",
      "Epoch 90/600\n",
      "426/426 [==============================] - 0s 147us/sample - loss: 0.1134 - val_loss: 0.1086\n",
      "Epoch 91/600\n",
      "426/426 [==============================] - 0s 144us/sample - loss: 0.1229 - val_loss: 0.0937\n",
      "Epoch 92/600\n",
      "426/426 [==============================] - 0s 141us/sample - loss: 0.1059 - val_loss: 0.0960\n",
      "Epoch 93/600\n",
      "426/426 [==============================] - 0s 145us/sample - loss: 0.1174 - val_loss: 0.1043\n",
      "Epoch 94/600\n",
      "426/426 [==============================] - 0s 142us/sample - loss: 0.1263 - val_loss: 0.0936\n",
      "Epoch 95/600\n",
      "426/426 [==============================] - 0s 142us/sample - loss: 0.1411 - val_loss: 0.1004\n",
      "Epoch 96/600\n",
      "426/426 [==============================] - 0s 148us/sample - loss: 0.1209 - val_loss: 0.0955\n",
      "Epoch 97/600\n",
      "426/426 [==============================] - 0s 145us/sample - loss: 0.0996 - val_loss: 0.0979\n",
      "Epoch 98/600\n",
      "426/426 [==============================] - 0s 142us/sample - loss: 0.1285 - val_loss: 0.0980\n",
      "Epoch 99/600\n",
      "426/426 [==============================] - 0s 145us/sample - loss: 0.1058 - val_loss: 0.0947\n",
      "Epoch 100/600\n",
      "426/426 [==============================] - 0s 143us/sample - loss: 0.1159 - val_loss: 0.0968\n",
      "Epoch 101/600\n",
      "426/426 [==============================] - 0s 143us/sample - loss: 0.1262 - val_loss: 0.1100\n",
      "Epoch 102/600\n",
      "426/426 [==============================] - 0s 141us/sample - loss: 0.1128 - val_loss: 0.0944\n",
      "Epoch 103/600\n",
      "426/426 [==============================] - 0s 146us/sample - loss: 0.1090 - val_loss: 0.1010\n",
      "Epoch 104/600\n",
      "426/426 [==============================] - 0s 146us/sample - loss: 0.0996 - val_loss: 0.0987\n",
      "Epoch 105/600\n",
      "426/426 [==============================] - 0s 146us/sample - loss: 0.1113 - val_loss: 0.0967\n",
      "Epoch 106/600\n",
      "426/426 [==============================] - 0s 143us/sample - loss: 0.1309 - val_loss: 0.0996\n",
      "Epoch 107/600\n",
      "426/426 [==============================] - 0s 150us/sample - loss: 0.0962 - val_loss: 0.0943\n",
      "Epoch 108/600\n",
      "426/426 [==============================] - 0s 142us/sample - loss: 0.0907 - val_loss: 0.1034\n",
      "Epoch 109/600\n",
      "426/426 [==============================] - 0s 141us/sample - loss: 0.1144 - val_loss: 0.0913\n",
      "Epoch 110/600\n",
      "426/426 [==============================] - 0s 143us/sample - loss: 0.1129 - val_loss: 0.1019\n",
      "Epoch 111/600\n",
      "426/426 [==============================] - 0s 140us/sample - loss: 0.1016 - val_loss: 0.1034\n",
      "Epoch 112/600\n",
      "426/426 [==============================] - 0s 145us/sample - loss: 0.1006 - val_loss: 0.0966\n",
      "Epoch 113/600\n",
      "426/426 [==============================] - 0s 144us/sample - loss: 0.1131 - val_loss: 0.0942\n",
      "Epoch 114/600\n",
      "426/426 [==============================] - 0s 144us/sample - loss: 0.1247 - val_loss: 0.0944\n",
      "Epoch 115/600\n",
      "426/426 [==============================] - 0s 144us/sample - loss: 0.0993 - val_loss: 0.0987\n",
      "Epoch 116/600\n",
      "426/426 [==============================] - 0s 143us/sample - loss: 0.1068 - val_loss: 0.0926\n",
      "Epoch 117/600\n",
      "426/426 [==============================] - 0s 143us/sample - loss: 0.0956 - val_loss: 0.0925\n",
      "Epoch 118/600\n",
      "426/426 [==============================] - 0s 150us/sample - loss: 0.0897 - val_loss: 0.1014\n",
      "Epoch 119/600\n",
      "426/426 [==============================] - 0s 142us/sample - loss: 0.0997 - val_loss: 0.1040\n",
      "Epoch 120/600\n",
      "426/426 [==============================] - 0s 140us/sample - loss: 0.0983 - val_loss: 0.0969\n",
      "Epoch 121/600\n",
      "426/426 [==============================] - 0s 143us/sample - loss: 0.1129 - val_loss: 0.0964\n",
      "Epoch 122/600\n",
      "426/426 [==============================] - 0s 146us/sample - loss: 0.1077 - val_loss: 0.0923\n",
      "Epoch 123/600\n",
      "426/426 [==============================] - 0s 142us/sample - loss: 0.1170 - val_loss: 0.1049\n",
      "Epoch 124/600\n",
      "426/426 [==============================] - 0s 146us/sample - loss: 0.0972 - val_loss: 0.0974\n",
      "Epoch 125/600\n",
      "426/426 [==============================] - ETA: 0s - loss: 0.010 - 0s 143us/sample - loss: 0.1105 - val_loss: 0.0928\n",
      "Epoch 126/600\n",
      "426/426 [==============================] - 0s 143us/sample - loss: 0.1092 - val_loss: 0.0926\n",
      "Epoch 127/600\n",
      "426/426 [==============================] - 0s 147us/sample - loss: 0.1111 - val_loss: 0.0968\n",
      "Epoch 128/600\n",
      "426/426 [==============================] - 0s 148us/sample - loss: 0.0992 - val_loss: 0.0985\n",
      "Epoch 129/600\n",
      "426/426 [==============================] - 0s 143us/sample - loss: 0.1116 - val_loss: 0.0993\n",
      "Epoch 130/600\n",
      "426/426 [==============================] - 0s 148us/sample - loss: 0.0906 - val_loss: 0.0982\n",
      "Epoch 131/600\n",
      "426/426 [==============================] - 0s 148us/sample - loss: 0.0956 - val_loss: 0.0982\n",
      "Epoch 132/600\n",
      "426/426 [==============================] - 0s 146us/sample - loss: 0.0970 - val_loss: 0.0916\n",
      "Epoch 133/600\n",
      "426/426 [==============================] - 0s 148us/sample - loss: 0.0916 - val_loss: 0.1048\n",
      "Epoch 134/600\n",
      "426/426 [==============================] - ETA: 0s - loss: 0.036 - 0s 147us/sample - loss: 0.0900 - val_loss: 0.0960\n",
      "Epoch 00134: early stopping\n"
     ]
    },
    {
     "data": {
      "text/plain": [
       "<tensorflow.python.keras.callbacks.History at 0x262810ec0c8>"
      ]
     },
     "execution_count": 18,
     "metadata": {},
     "output_type": "execute_result"
    }
   ],
   "source": [
    "model.fit(x=X_train, \n",
    "          y=y_train, \n",
    "          epochs=600,\n",
    "          validation_data=(X_test, y_test), verbose=1,\n",
    "          callbacks=[early_stop,board]\n",
    "          )"
   ]
  },
  {
   "cell_type": "markdown",
   "metadata": {},
   "source": [
    "# Running Tensorboard\n"
   ]
  },
  {
   "cell_type": "markdown",
   "metadata": {},
   "source": [
    "## Running through the Command Line\n",
    "\n",
    "**Watch video to see how to run Tensorboard through a command line call.**"
   ]
  },
  {
   "cell_type": "markdown",
   "metadata": {},
   "source": [
    "Tensorboard will run locally in your browser at [http://localhost:6006/](http://localhost:6006/)\n"
   ]
  },
  {
   "cell_type": "code",
   "execution_count": 19,
   "metadata": {},
   "outputs": [
    {
     "name": "stdout",
     "output_type": "stream",
     "text": [
      "logs\\fit\n"
     ]
    }
   ],
   "source": [
    "print(log_directory)"
   ]
  },
  {
   "cell_type": "code",
   "execution_count": 20,
   "metadata": {},
   "outputs": [
    {
     "data": {
      "text/plain": [
       "'D:\\\\Projects\\\\DeepLearning'"
      ]
     },
     "execution_count": 20,
     "metadata": {},
     "output_type": "execute_result"
    }
   ],
   "source": [
    "pwd"
   ]
  },
  {
   "cell_type": "markdown",
   "metadata": {},
   "source": [
    "### Use cd at your command line to change directory to the file path reported back by pwd or your current .py file location.\n",
    "### Then run this code at your command line or terminal"
   ]
  },
  {
   "cell_type": "code",
   "execution_count": 21,
   "metadata": {},
   "outputs": [
    {
     "ename": "SyntaxError",
     "evalue": "invalid syntax (<ipython-input-21-f1f15e2adad4>, line 1)",
     "output_type": "error",
     "traceback": [
      "\u001b[1;36m  File \u001b[1;32m\"<ipython-input-21-f1f15e2adad4>\"\u001b[1;36m, line \u001b[1;32m1\u001b[0m\n\u001b[1;33m    tensorboard --logdir logs\\fit\u001b[0m\n\u001b[1;37m                            ^\u001b[0m\n\u001b[1;31mSyntaxError\u001b[0m\u001b[1;31m:\u001b[0m invalid syntax\n"
     ]
    }
   ],
   "source": [
    "tensorboard --logdir logs\\fit "
   ]
  }
 ],
 "metadata": {
  "kernelspec": {
   "display_name": "Python 3",
   "language": "python",
   "name": "python3"
  },
  "language_info": {
   "codemirror_mode": {
    "name": "ipython",
    "version": 3
   },
   "file_extension": ".py",
   "mimetype": "text/x-python",
   "name": "python",
   "nbconvert_exporter": "python",
   "pygments_lexer": "ipython3",
   "version": "3.7.4"
  }
 },
 "nbformat": 4,
 "nbformat_minor": 2
}
